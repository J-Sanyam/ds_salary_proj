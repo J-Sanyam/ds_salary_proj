{
 "cells": [
  {
   "cell_type": "code",
   "execution_count": 1,
   "id": "d7ac9ed5-d67e-48a3-826d-d21fab6eaef4",
   "metadata": {},
   "outputs": [],
   "source": [
    "import pandas as pd\n",
    "import numpy as np\n",
    "import matplotlib.pyplot as plt\n",
    "import seaborn as sns"
   ]
  },
  {
   "cell_type": "code",
   "execution_count": 12,
   "id": "de743f61-d99e-44df-bf23-f0dd705fc1df",
   "metadata": {},
   "outputs": [],
   "source": [
    "df = pd.read_csv(\"jobs_cleaned.csv\")"
   ]
  },
  {
   "cell_type": "code",
   "execution_count": 307,
   "id": "6e353885-0c28-490a-a4b8-d2a031731be8",
   "metadata": {},
   "outputs": [
    {
     "data": {
      "text/html": [
       "<div>\n",
       "<style scoped>\n",
       "    .dataframe tbody tr th:only-of-type {\n",
       "        vertical-align: middle;\n",
       "    }\n",
       "\n",
       "    .dataframe tbody tr th {\n",
       "        vertical-align: top;\n",
       "    }\n",
       "\n",
       "    .dataframe thead th {\n",
       "        text-align: right;\n",
       "    }\n",
       "</style>\n",
       "<table border=\"1\" class=\"dataframe\">\n",
       "  <thead>\n",
       "    <tr style=\"text-align: right;\">\n",
       "      <th></th>\n",
       "      <th>Job Title</th>\n",
       "      <th>Job Description</th>\n",
       "      <th>Rating</th>\n",
       "      <th>Company Name</th>\n",
       "      <th>Location</th>\n",
       "      <th>Headquarters</th>\n",
       "      <th>Size</th>\n",
       "      <th>Founded</th>\n",
       "      <th>Type of ownership</th>\n",
       "      <th>Industry</th>\n",
       "      <th>Sector</th>\n",
       "      <th>Revenue</th>\n",
       "      <th>Competitors</th>\n",
       "      <th>Min Salary</th>\n",
       "      <th>Max Salary</th>\n",
       "      <th>Avg Salary</th>\n",
       "      <th>Tools</th>\n",
       "      <th>Skills</th>\n",
       "    </tr>\n",
       "  </thead>\n",
       "  <tbody>\n",
       "    <tr>\n",
       "      <th>0</th>\n",
       "      <td>Data Scientist</td>\n",
       "      <td>Data Scientist\\r\\nLocation: Albuquerque, NM\\r\\...</td>\n",
       "      <td>3.8</td>\n",
       "      <td>Tecolote Research</td>\n",
       "      <td>NM</td>\n",
       "      <td>CA</td>\n",
       "      <td>501 to 1000 employees</td>\n",
       "      <td>1973</td>\n",
       "      <td>Company - Private</td>\n",
       "      <td>Aerospace &amp; Defense</td>\n",
       "      <td>Aerospace &amp; Defense</td>\n",
       "      <td>$50 to $100 million (USD)</td>\n",
       "      <td>-1</td>\n",
       "      <td>53</td>\n",
       "      <td>91</td>\n",
       "      <td>72.0</td>\n",
       "      <td>python,matlab,excel,power bi,tableau</td>\n",
       "      <td>visualization,engineering,collection,analysis</td>\n",
       "    </tr>\n",
       "    <tr>\n",
       "      <th>1</th>\n",
       "      <td>Data Scientist</td>\n",
       "      <td>What You Will Do:\\r\\n\\r\\nI. General Summary\\r\\...</td>\n",
       "      <td>3.4</td>\n",
       "      <td>University of Maryland Medical System</td>\n",
       "      <td>MD</td>\n",
       "      <td>MD</td>\n",
       "      <td>10000+ employees</td>\n",
       "      <td>1984</td>\n",
       "      <td>Other Organization</td>\n",
       "      <td>Health Care Services &amp; Hospitals</td>\n",
       "      <td>Health Care</td>\n",
       "      <td>$2 to $5 billion (USD)</td>\n",
       "      <td>-1</td>\n",
       "      <td>63</td>\n",
       "      <td>112</td>\n",
       "      <td>87.5</td>\n",
       "      <td>python,java</td>\n",
       "      <td>visualization,engineering,analysis,predict,mod...</td>\n",
       "    </tr>\n",
       "    <tr>\n",
       "      <th>2</th>\n",
       "      <td>Data Scientist</td>\n",
       "      <td>KnowBe4, Inc. is a high growth information sec...</td>\n",
       "      <td>4.8</td>\n",
       "      <td>KnowBe4</td>\n",
       "      <td>FL</td>\n",
       "      <td>FL</td>\n",
       "      <td>501 to 1000 employees</td>\n",
       "      <td>2010</td>\n",
       "      <td>Company - Private</td>\n",
       "      <td>Security Services</td>\n",
       "      <td>Business Services</td>\n",
       "      <td>$100 to $500 million (USD)</td>\n",
       "      <td>-1</td>\n",
       "      <td>80</td>\n",
       "      <td>90</td>\n",
       "      <td>85.0</td>\n",
       "      <td>python,excel,spark,sql,matplotlib</td>\n",
       "      <td>visualization,engineering,collection,analysis,...</td>\n",
       "    </tr>\n",
       "    <tr>\n",
       "      <th>3</th>\n",
       "      <td>Data Scientist</td>\n",
       "      <td>*Organization and Job ID**\\r\\nJob ID: 310709\\r...</td>\n",
       "      <td>3.8</td>\n",
       "      <td>PNNL</td>\n",
       "      <td>WA</td>\n",
       "      <td>WA</td>\n",
       "      <td>1001 to 5000 employees</td>\n",
       "      <td>1965</td>\n",
       "      <td>Government</td>\n",
       "      <td>Energy</td>\n",
       "      <td>Oil, Gas, Energy &amp; Utilities</td>\n",
       "      <td>$500 million to $1 billion (USD)</td>\n",
       "      <td>Oak Ridge National Laboratory, National Renewa...</td>\n",
       "      <td>56</td>\n",
       "      <td>97</td>\n",
       "      <td>76.5</td>\n",
       "      <td>python</td>\n",
       "      <td>engineering,analysis,predict,modeling</td>\n",
       "    </tr>\n",
       "    <tr>\n",
       "      <th>4</th>\n",
       "      <td>Data Scientist</td>\n",
       "      <td>Data Scientist\\r\\nAffinity Solutions / Marketi...</td>\n",
       "      <td>2.9</td>\n",
       "      <td>Affinity Solutions</td>\n",
       "      <td>NY</td>\n",
       "      <td>NY</td>\n",
       "      <td>51 to 200 employees</td>\n",
       "      <td>1998</td>\n",
       "      <td>Company - Private</td>\n",
       "      <td>Advertising &amp; Marketing</td>\n",
       "      <td>Business Services</td>\n",
       "      <td>Unknown / Non-Applicable</td>\n",
       "      <td>Commerce Signals, Cardlytics, Yodlee</td>\n",
       "      <td>86</td>\n",
       "      <td>143</td>\n",
       "      <td>114.5</td>\n",
       "      <td>python,excel,sql</td>\n",
       "      <td>analysis,modeling</td>\n",
       "    </tr>\n",
       "  </tbody>\n",
       "</table>\n",
       "</div>"
      ],
      "text/plain": [
       "        Job Title                                    Job Description  Rating  \\\n",
       "0  Data Scientist  Data Scientist\\r\\nLocation: Albuquerque, NM\\r\\...     3.8   \n",
       "1  Data Scientist  What You Will Do:\\r\\n\\r\\nI. General Summary\\r\\...     3.4   \n",
       "2  Data Scientist  KnowBe4, Inc. is a high growth information sec...     4.8   \n",
       "3  Data Scientist  *Organization and Job ID**\\r\\nJob ID: 310709\\r...     3.8   \n",
       "4  Data Scientist  Data Scientist\\r\\nAffinity Solutions / Marketi...     2.9   \n",
       "\n",
       "                            Company Name Location Headquarters  \\\n",
       "0                      Tecolote Research       NM           CA   \n",
       "1  University of Maryland Medical System       MD           MD   \n",
       "2                                KnowBe4       FL           FL   \n",
       "3                                   PNNL       WA           WA   \n",
       "4                     Affinity Solutions       NY           NY   \n",
       "\n",
       "                     Size  Founded   Type of ownership  \\\n",
       "0   501 to 1000 employees     1973   Company - Private   \n",
       "1        10000+ employees     1984  Other Organization   \n",
       "2   501 to 1000 employees     2010   Company - Private   \n",
       "3  1001 to 5000 employees     1965          Government   \n",
       "4     51 to 200 employees     1998   Company - Private   \n",
       "\n",
       "                           Industry                        Sector  \\\n",
       "0               Aerospace & Defense           Aerospace & Defense   \n",
       "1  Health Care Services & Hospitals                   Health Care   \n",
       "2                 Security Services             Business Services   \n",
       "3                            Energy  Oil, Gas, Energy & Utilities   \n",
       "4           Advertising & Marketing             Business Services   \n",
       "\n",
       "                            Revenue  \\\n",
       "0         $50 to $100 million (USD)   \n",
       "1            $2 to $5 billion (USD)   \n",
       "2        $100 to $500 million (USD)   \n",
       "3  $500 million to $1 billion (USD)   \n",
       "4          Unknown / Non-Applicable   \n",
       "\n",
       "                                         Competitors  Min Salary  Max Salary  \\\n",
       "0                                                 -1          53          91   \n",
       "1                                                 -1          63         112   \n",
       "2                                                 -1          80          90   \n",
       "3  Oak Ridge National Laboratory, National Renewa...          56          97   \n",
       "4               Commerce Signals, Cardlytics, Yodlee          86         143   \n",
       "\n",
       "   Avg Salary                                 Tools  \\\n",
       "0        72.0  python,matlab,excel,power bi,tableau   \n",
       "1        87.5                           python,java   \n",
       "2        85.0     python,excel,spark,sql,matplotlib   \n",
       "3        76.5                                python   \n",
       "4       114.5                      python,excel,sql   \n",
       "\n",
       "                                              Skills  \n",
       "0      visualization,engineering,collection,analysis  \n",
       "1  visualization,engineering,analysis,predict,mod...  \n",
       "2  visualization,engineering,collection,analysis,...  \n",
       "3              engineering,analysis,predict,modeling  \n",
       "4                                  analysis,modeling  "
      ]
     },
     "execution_count": 307,
     "metadata": {},
     "output_type": "execute_result"
    }
   ],
   "source": [
    "df.head()"
   ]
  },
  {
   "cell_type": "code",
   "execution_count": 15,
   "id": "54c4b724-1b73-471c-a24c-2a010bcf9c53",
   "metadata": {},
   "outputs": [
    {
     "name": "stdout",
     "output_type": "stream",
     "text": [
      "<class 'pandas.core.frame.DataFrame'>\n",
      "RangeIndex: 738 entries, 0 to 737\n",
      "Data columns (total 18 columns):\n",
      " #   Column             Non-Null Count  Dtype  \n",
      "---  ------             --------------  -----  \n",
      " 0   Job Title          738 non-null    object \n",
      " 1   Job Description    738 non-null    object \n",
      " 2   Rating             738 non-null    float64\n",
      " 3   Company Name       738 non-null    object \n",
      " 4   Location           738 non-null    object \n",
      " 5   Headquarters       738 non-null    object \n",
      " 6   Size               738 non-null    object \n",
      " 7   Founded            738 non-null    int64  \n",
      " 8   Type of ownership  738 non-null    object \n",
      " 9   Industry           738 non-null    object \n",
      " 10  Sector             738 non-null    object \n",
      " 11  Revenue            738 non-null    object \n",
      " 12  Competitors        738 non-null    object \n",
      " 13  Min Salary         738 non-null    int64  \n",
      " 14  Max Salary         738 non-null    int64  \n",
      " 15  Avg Salary         738 non-null    float64\n",
      " 16  Tools              738 non-null    object \n",
      " 17  Skills             738 non-null    object \n",
      "dtypes: float64(2), int64(3), object(13)\n",
      "memory usage: 103.9+ KB\n"
     ]
    }
   ],
   "source": [
    "df.info()"
   ]
  },
  {
   "cell_type": "code",
   "execution_count": 14,
   "id": "40c18066-dd09-4cf4-8f5f-de6bb200f0ae",
   "metadata": {},
   "outputs": [],
   "source": [
    "df.fillna(value = 'others', inplace  = True)"
   ]
  },
  {
   "cell_type": "code",
   "execution_count": 26,
   "id": "e2eefead-4ccc-4c28-84ec-da1d6f8275d0",
   "metadata": {},
   "outputs": [],
   "source": [
    "size = df['Size'].value_counts()"
   ]
  },
  {
   "cell_type": "code",
   "execution_count": 31,
   "id": "429c1da9-424e-475d-a467-e33e51a7882e",
   "metadata": {},
   "outputs": [
    {
     "data": {
      "image/png": "[encoded data removed]",
      "text/plain": [
       "<Figure size 720x144 with 1 Axes>"
      ]
     },
     "metadata": {
      "needs_background": "light"
     },
     "output_type": "display_data"
    }
   ],
   "source": [
    "plt.figure(figsize = (10, 2))\n",
    "size.plot(kind = 'bar')\n",
    "plt.title(\"Company Size\")\n",
    "plt.ylabel(\"Counts\")\n",
    "plt.xlabel(\"Size\")\n",
    "plt.legend()\n",
    "plt.show()"
   ]
  },
  {
   "cell_type": "code",
   "execution_count": 56,
   "id": "224b49a0-8586-48f3-a495-954462694d8d",
   "metadata": {},
   "outputs": [],
   "source": [
    "def avg_min_pay(posts):\n",
    "    avg_pay = list()\n",
    "    for post in posts:\n",
    "        avg_pay.append(df['Min Salary'].loc[df['Job Title'] == post].mean())\n",
    "    return avg_pay"
   ]
  },
  {
   "cell_type": "code",
   "execution_count": 62,
   "id": "daf14b10-dd07-4511-9508-e5ccc5e97207",
   "metadata": {},
   "outputs": [],
   "source": [
    "posts = ['Data Scientist','Data Analyst','Data Engineer', 'Other']"
   ]
  },
  {
   "cell_type": "code",
   "execution_count": 63,
   "id": "fac317b4-2c06-4c84-b009-13d74d81dc46",
   "metadata": {},
   "outputs": [],
   "source": [
    "avg_pay = avg_min_pay(posts)"
   ]
  },
  {
   "cell_type": "code",
   "execution_count": 64,
   "id": "9a33b4db-3249-4019-837e-a793fb059f78",
   "metadata": {},
   "outputs": [
    {
     "data": {
      "text/plain": [
       "[90.41157556270096, 47.221311475409834, 76.15126050420169, 63.456989247311824]"
      ]
     },
     "execution_count": 64,
     "metadata": {},
     "output_type": "execute_result"
    }
   ],
   "source": [
    "avg_pay"
   ]
  },
  {
   "cell_type": "code",
   "execution_count": 75,
   "id": "ff11c31e-e9cf-454a-95af-e12ca9e2586e",
   "metadata": {},
   "outputs": [
    {
     "data": {
      "image/png": "[encoded data removed]",
      "text/plain": [
       "<Figure size 432x288 with 1 Axes>"
      ]
     },
     "metadata": {
      "needs_background": "light"
     },
     "output_type": "display_data"
    }
   ],
   "source": [
    "bars = plt.bar(x = posts, height = avg_pay)\n",
    "bars[0].set_color((0.2, 0.2, 0.5, 0.3))"
   ]
  },
  {
   "cell_type": "code",
   "execution_count": 76,
   "id": "6ce1cf29-2b57-4907-929e-a321ef587631",
   "metadata": {},
   "outputs": [],
   "source": [
    "def avg_max_pay(posts):\n",
    "    avg_pay = list()\n",
    "    for post in posts:\n",
    "        avg_pay.append(df['Max Salary'].loc[df['Job Title'] == post].mean())\n",
    "    return avg_pay"
   ]
  },
  {
   "cell_type": "code",
   "execution_count": 79,
   "id": "6762f5da-fedf-4fb2-83e7-6d1ac8929bf9",
   "metadata": {},
   "outputs": [
    {
     "data": {
      "image/png": "[encoded data removed]",
      "text/plain": [
       "<Figure size 432x288 with 1 Axes>"
      ]
     },
     "metadata": {
      "needs_background": "light"
     },
     "output_type": "display_data"
    }
   ],
   "source": [
    "avg_pay_max = avg_max_pay(posts)\n",
    "bars = plt.bar(x = posts, height = avg_pay_max)\n",
    "bars[0].set_color((0.2, 0.2, 0.5, 0.3))"
   ]
  },
  {
   "cell_type": "code",
   "execution_count": 80,
   "id": "96d9450a-810d-43ac-9c34-9bb373feeb67",
   "metadata": {},
   "outputs": [
    {
     "data": {
      "text/plain": [
       "[146.89389067524115, 84.74590163934427, 134.65546218487395, 118.13978494623656]"
      ]
     },
     "execution_count": 80,
     "metadata": {},
     "output_type": "execute_result"
    }
   ],
   "source": [
    "avg_pay_max"
   ]
  },
  {
   "cell_type": "code",
   "execution_count": 82,
   "id": "d2b6bd99-69a0-46e8-8566-a16324288a09",
   "metadata": {},
   "outputs": [
    {
     "data": {
      "image/png": "[encoded data removed]",
      "text/plain": [
       "<Figure size 432x288 with 1 Axes>"
      ]
     },
     "metadata": {
      "needs_background": "light"
     },
     "output_type": "display_data"
    }
   ],
   "source": [
    "def avg_pay(posts):\n",
    "    avg_pay = list()\n",
    "    for post in posts:\n",
    "        avg_pay.append(df['Avg Salary'].loc[df['Job Title'] == post].mean())\n",
    "    return avg_pay\n",
    "mean_pay = avg_min_pay(posts)\n",
    "bars = plt.bar(x = posts, height = mean_pay)\n",
    "bars[0].set_color((0.2, 0.2, 0.5, 0.3))"
   ]
  },
  {
   "cell_type": "code",
   "execution_count": 93,
   "id": "56e4a6a5-44d1-465b-8eb8-fdff5112fb89",
   "metadata": {},
   "outputs": [
    {
     "data": {
      "text/plain": [
       "{'$100 to $500 million (USD)': 83.15384615384616,\n",
       " '$25 to $50 million (USD)': 83.94871794871794,\n",
       " '$500 million to $1 billion (USD)': 86.99122807017544,\n",
       " '$5 to $10 billion (USD)': 94.1842105263158,\n",
       " '$2 to $5 billion (USD)': 94.73076923076923,\n",
       " '$10 to $25 million (USD)': 100.359375,\n",
       " '$50 to $100 million (USD)': 100.56521739130434,\n",
       " 'Unknown / Non-Applicable': 104.3103448275862,\n",
       " '$1 to $2 billion (USD)': 104.53333333333333,\n",
       " 'Less than $1 million (USD)': 108.625,\n",
       " '$10+ billion (USD)': 116.02868852459017,\n",
       " '$1 to $5 million (USD)': 119.3125,\n",
       " '$5 to $10 million (USD)': 126.11111111111111}"
      ]
     },
     "execution_count": 93,
     "metadata": {},
     "output_type": "execute_result"
    }
   ],
   "source": [
    "revenue_vs_salary"
   ]
  },
  {
   "cell_type": "code",
   "execution_count": 220,
   "id": "5603cd97-f182-4ff4-ba13-80ccc550c93a",
   "metadata": {},
   "outputs": [
    {
     "data": {
      "text/plain": [
       "<BarContainer object of 13 artists>"
      ]
     },
     "execution_count": 220,
     "metadata": {},
     "output_type": "execute_result"
    },
    {
     "data": {
      "image/png": "[encoded data removed]",
      "text/plain": [
       "<Figure size 432x288 with 1 Axes>"
      ]
     },
     "metadata": {
      "needs_background": "light"
     },
     "output_type": "display_data"
    }
   ],
   "source": [
    "values = revenue_vs_salary.values()\n",
    "keys = revenue_vs_salary.keys()\n",
    "plt.barh(list(keys), list(values))"
   ]
  },
  {
   "cell_type": "code",
   "execution_count": 151,
   "id": "70ae650f-a317-4cbf-b244-a9c54f3fa464",
   "metadata": {},
   "outputs": [],
   "source": [
    "location_dict = df['Avg Salary'].groupby(df['Location']).mean().sort_values(ascending = False)[0:10].to_dict()"
   ]
  },
  {
   "cell_type": "code",
   "execution_count": 118,
   "id": "42f48335-7946-406e-a27b-fb454846ac70",
   "metadata": {},
   "outputs": [],
   "source": [
    "df['Location'] = df.Location.apply(lambda x : 'CA' if x.lower() == 'los angeles' else x)"
   ]
  },
  {
   "cell_type": "code",
   "execution_count": 152,
   "id": "1604024d-aca6-451c-9094-f2d55e5301be",
   "metadata": {},
   "outputs": [
    {
     "data": {
      "text/plain": [
       "<BarContainer object of 10 artists>"
      ]
     },
     "execution_count": 152,
     "metadata": {},
     "output_type": "execute_result"
    },
    {
     "data": {
      "image/png": "[encoded data removed]",
      "text/plain": [
       "<Figure size 432x288 with 1 Axes>"
      ]
     },
     "metadata": {
      "needs_background": "light"
     },
     "output_type": "display_data"
    }
   ],
   "source": [
    "plt.bar(x = location_dict.keys(), height = location_dict.values())"
   ]
  },
  {
   "cell_type": "code",
   "execution_count": 158,
   "id": "40165257-954a-45bc-8184-516dd2c66de6",
   "metadata": {},
   "outputs": [],
   "source": [
    "rating_bins = np.arange(-1, 6, 1)"
   ]
  },
  {
   "cell_type": "code",
   "execution_count": 175,
   "id": "b944feee-5a95-4b0a-b41c-f4e4fafd038e",
   "metadata": {},
   "outputs": [],
   "source": [
    "df1 = df['Rating']"
   ]
  },
  {
   "cell_type": "code",
   "execution_count": 177,
   "id": "5bf15a5f-9513-41e3-8cd4-bca329de17a3",
   "metadata": {},
   "outputs": [
    {
     "data": {
      "text/plain": [
       "<AxesSubplot:ylabel='Frequency'>"
      ]
     },
     "execution_count": 177,
     "metadata": {},
     "output_type": "execute_result"
    },
    {
     "data": {
      "image/png": "[encoded data removed]",
      "text/plain": [
       "<Figure size 432x288 with 1 Axes>"
      ]
     },
     "metadata": {
      "needs_background": "light"
     },
     "output_type": "display_data"
    }
   ],
   "source": [
    "df1.plot.hist(bins = rating_bins)"
   ]
  },
  {
   "cell_type": "code",
   "execution_count": 179,
   "id": "e0443e82-0c14-4ad3-a05d-33f79945c56d",
   "metadata": {},
   "outputs": [
    {
     "data": {
      "text/plain": [
       "<AxesSubplot:xlabel='Rating', ylabel='Avg Salary'>"
      ]
     },
     "execution_count": 179,
     "metadata": {},
     "output_type": "execute_result"
    },
    {
     "data": {
      "image/png": "[encoded data removed]",
      "text/plain": [
       "<Figure size 432x288 with 1 Axes>"
      ]
     },
     "metadata": {
      "needs_background": "light"
     },
     "output_type": "display_data"
    }
   ],
   "source": [
    "sns.regplot(data = df.loc[df['Rating'] != -1], x = 'Rating', y = 'Avg Salary')"
   ]
  },
  {
   "cell_type": "code",
   "execution_count": 182,
   "id": "e044b37e-752b-4073-8a14-670059bc8ac5",
   "metadata": {},
   "outputs": [
    {
     "data": {
      "text/html": [
       "<div>\n",
       "<style scoped>\n",
       "    .dataframe tbody tr th:only-of-type {\n",
       "        vertical-align: middle;\n",
       "    }\n",
       "\n",
       "    .dataframe tbody tr th {\n",
       "        vertical-align: top;\n",
       "    }\n",
       "\n",
       "    .dataframe thead th {\n",
       "        text-align: right;\n",
       "    }\n",
       "</style>\n",
       "<table border=\"1\" class=\"dataframe\">\n",
       "  <thead>\n",
       "    <tr style=\"text-align: right;\">\n",
       "      <th></th>\n",
       "      <th>Rating</th>\n",
       "      <th>Avg Salary</th>\n",
       "    </tr>\n",
       "  </thead>\n",
       "  <tbody>\n",
       "    <tr>\n",
       "      <th>Rating</th>\n",
       "      <td>1.000000</td>\n",
       "      <td>0.016567</td>\n",
       "    </tr>\n",
       "    <tr>\n",
       "      <th>Avg Salary</th>\n",
       "      <td>0.016567</td>\n",
       "      <td>1.000000</td>\n",
       "    </tr>\n",
       "  </tbody>\n",
       "</table>\n",
       "</div>"
      ],
      "text/plain": [
       "              Rating  Avg Salary\n",
       "Rating      1.000000    0.016567\n",
       "Avg Salary  0.016567    1.000000"
      ]
     },
     "execution_count": 182,
     "metadata": {},
     "output_type": "execute_result"
    }
   ],
   "source": [
    "df[['Rating','Avg Salary']].corr()"
   ]
  },
  {
   "cell_type": "code",
   "execution_count": 199,
   "id": "929b4721-b9fe-4d41-a039-be72c7a58b90",
   "metadata": {},
   "outputs": [
    {
     "data": {
      "text/plain": [
       "<BarContainer object of 9 artists>"
      ]
     },
     "execution_count": 199,
     "metadata": {},
     "output_type": "execute_result"
    },
    {
     "data": {
      "image/png": "[encoded data removed]",
      "text/plain": [
       "<Figure size 432x288 with 1 Axes>"
      ]
     },
     "metadata": {
      "needs_background": "light"
     },
     "output_type": "display_data"
    }
   ],
   "source": [
    "asd = df['Avg Salary'].groupby(df['Type of ownership']).mean().sort_values(ascending = True).to_dict()\n",
    "plt.barh(list(asd.keys()),list(asd.values()))"
   ]
  },
  {
   "cell_type": "code",
   "execution_count": 203,
   "id": "084e72e0-6f3a-4361-b31b-347c80a3ed83",
   "metadata": {},
   "outputs": [
    {
     "data": {
      "text/plain": [
       "<BarContainer object of 10 artists>"
      ]
     },
     "execution_count": 203,
     "metadata": {},
     "output_type": "execute_result"
    },
    {
     "data": {
      "image/png": "[encoded data removed]",
      "text/plain": [
       "<Figure size 432x288 with 1 Axes>"
      ]
     },
     "metadata": {
      "needs_background": "light"
     },
     "output_type": "display_data"
    }
   ],
   "source": [
    "asd = df['Avg Salary'].groupby(df['Industry']).mean().sort_values(ascending = True)[0:10].to_dict()\n",
    "plt.barh(list(asd.keys()),list(asd.values()))"
   ]
  },
  {
   "cell_type": "code",
   "execution_count": 219,
   "id": "e6ea9f5d-046c-4d13-81be-e1c6c800a60f",
   "metadata": {},
   "outputs": [
    {
     "data": {
      "text/plain": [
       "<BarContainer object of 10 artists>"
      ]
     },
     "execution_count": 219,
     "metadata": {},
     "output_type": "execute_result"
    },
    {
     "data": {
      "image/png": "[encoded data removed]",
      "text/plain": [
       "<Figure size 432x288 with 1 Axes>"
      ]
     },
     "metadata": {
      "needs_background": "light"
     },
     "output_type": "display_data"
    }
   ],
   "source": [
    "asd = df['Avg Salary'].groupby(df['Sector']).mean().sort_values(ascending = True)[0:10].to_dict()\n",
    "plt.barh(list(asd.keys()),list(asd.values()))"
   ]
  },
  {
   "cell_type": "code",
   "execution_count": 218,
   "id": "350882af-49bc-4049-9a4c-a86489f73a00",
   "metadata": {},
   "outputs": [
    {
     "data": {
      "text/plain": [
       "Type of ownership               Sector                              Industry                                \n",
       "Subsidiary or Business Segment  Information Technology              Computer Hardware & Software                204.750000\n",
       "Company - Private               Finance                             Financial Analytics & Research              164.000000\n",
       "                                Retail                              Other Retail Stores                         163.500000\n",
       "Subsidiary or Business Segment  Media                               Motion Picture Production & Distribution    146.000000\n",
       "Company - Private               Education                           K-12 Education                              140.000000\n",
       "                                                                                                                   ...    \n",
       "Nonprofit Organization          Non-Profit                          Social Assistance                            48.166667\n",
       "                                Health Care                         Health Care Services & Hospitals             44.852941\n",
       "Company - Public                Telecommunications                  Telecommunications Manufacturing             44.000000\n",
       "Company - Private               Construction, Repair & Maintenance  Construction                                 26.500000\n",
       "Government                      Government                          Federal Agencies                             20.000000\n",
       "Name: Avg Salary, Length: 110, dtype: float64"
      ]
     },
     "execution_count": 218,
     "metadata": {},
     "output_type": "execute_result"
    }
   ],
   "source": [
    "df.groupby(['Type of ownership','Sector','Industry',])['Avg Salary'].mean().sort_values(ascending = False)"
   ]
  },
  {
   "cell_type": "code",
   "execution_count": 234,
   "id": "c2c5b165-7c86-43c5-b640-7c9848f577f6",
   "metadata": {},
   "outputs": [
    {
     "data": {
      "text/plain": [
       "0        python,matlab,excel,power bi,tableau\n",
       "1                                 python,java\n",
       "2           python,excel,spark,sql,matplotlib\n",
       "3                                      python\n",
       "4                            python,excel,sql\n",
       "                        ...                  \n",
       "733                                       aws\n",
       "734    python,java,hadoop,spark,sql,aws,scala\n",
       "735                                     excel\n",
       "736                                     excel\n",
       "737                                    python\n",
       "Name: Tools, Length: 738, dtype: object"
      ]
     },
     "execution_count": 234,
     "metadata": {},
     "output_type": "execute_result"
    }
   ],
   "source": [
    "df['Tools']"
   ]
  },
  {
   "cell_type": "code",
   "execution_count": 16,
   "id": "c4bb81e8-bc45-43a5-85a6-4a2d6d2b5aa6",
   "metadata": {},
   "outputs": [],
   "source": [
    "def tools_split(tools):\n",
    "    tools = str(tools)\n",
    "    tool_list = tools.split(',')\n",
    "    return tool_list\n",
    "\n",
    "df['Tools'] = df['Tools'].apply(tools_split)\n",
    "df['Skills'] = df['Skills'].apply(tools_split)"
   ]
  },
  {
   "cell_type": "code",
   "execution_count": 17,
   "id": "2dc66475-ca72-4b4e-b9a9-457fd55a7abb",
   "metadata": {},
   "outputs": [],
   "source": [
    "Skills_list = list(set(df[\"Skills\"].explode()))\n",
    "Tools_list = list(set(df[\"Tools\"].explode()))"
   ]
  },
  {
   "cell_type": "code",
   "execution_count": 20,
   "id": "39f1494f-8bd2-4a06-ad9e-656661de6632",
   "metadata": {},
   "outputs": [],
   "source": [
    "df[Skills_list] = 0\n",
    "df[Tools_list] = 0"
   ]
  },
  {
   "cell_type": "code",
   "execution_count": 24,
   "id": "462f1ef8-342b-4c24-aded-b7f17a99f141",
   "metadata": {},
   "outputs": [
    {
     "name": "stderr",
     "output_type": "stream",
     "text": [
      "C:\\Users\\acer\\AppData\\Local\\Temp/ipykernel_15652/536341455.py:5: SettingWithCopyWarning: \n",
      "A value is trying to be set on a copy of a slice from a DataFrame\n",
      "\n",
      "See the caveats in the documentation: https://pandas.pydata.org/pandas-docs/stable/user_guide/indexing.html#returning-a-view-versus-a-copy\n",
      "  df[tool][i] = 1\n",
      "C:\\Users\\acer\\AppData\\Local\\Temp/ipykernel_15652/536341455.py:10: SettingWithCopyWarning: \n",
      "A value is trying to be set on a copy of a slice from a DataFrame\n",
      "\n",
      "See the caveats in the documentation: https://pandas.pydata.org/pandas-docs/stable/user_guide/indexing.html#returning-a-view-versus-a-copy\n",
      "  df[skill][i] = 1\n"
     ]
    }
   ],
   "source": [
    "def fill_tools(df):\n",
    "    for i in df.index:\n",
    "        for tool in Tools_list:\n",
    "            if tool in df['Tools'][i]:\n",
    "                df[tool][i] = 1\n",
    "def fill_skills(df):\n",
    "    for i in df.index:\n",
    "        for skill in Skills_list:\n",
    "            if skill in df['Skills'][i]:\n",
    "                df[skill][i] = 1\n",
    "fill_tools(df)\n",
    "fill_skills(df)"
   ]
  },
  {
   "cell_type": "code",
   "execution_count": 28,
   "id": "5e7bf2b5-e34e-41b1-8fa1-45ab2794aef7",
   "metadata": {},
   "outputs": [],
   "source": [
    "df.drop(columns = ['Tools','Skills'], axis = 1, inplace  =True)"
   ]
  },
  {
   "cell_type": "code",
   "execution_count": 27,
   "id": "0ab47e76-764b-45c8-b717-ef097afb2087",
   "metadata": {},
   "outputs": [],
   "source": [
    "avg_salary_tools = list()\n",
    "for tool in Tools_list:\n",
    "    avg_salary_tools.append(df[df[tool] == 1]['Avg Salary'].mean())\n",
    "        "
   ]
  },
  {
   "cell_type": "code",
   "execution_count": 325,
   "id": "bad24d15-ba94-4abe-a7a4-3a7376cfb426",
   "metadata": {},
   "outputs": [
    {
     "data": {
      "text/plain": [
       "<BarContainer object of 24 artists>"
      ]
     },
     "execution_count": 325,
     "metadata": {},
     "output_type": "execute_result"
    },
    {
     "data": {
      "image/png": "[encoded data removed]",
      "text/plain": [
       "<Figure size 432x288 with 1 Axes>"
      ]
     },
     "metadata": {
      "needs_background": "light"
     },
     "output_type": "display_data"
    }
   ],
   "source": [
    "plt.barh(Tools_list, avg_salary_tools)"
   ]
  },
  {
   "cell_type": "code",
   "execution_count": 28,
   "id": "41adbeac-431b-4a67-b013-c652605c9ae9",
   "metadata": {},
   "outputs": [
    {
     "data": {
      "text/plain": [
       "<BarContainer object of 10 artists>"
      ]
     },
     "execution_count": 28,
     "metadata": {},
     "output_type": "execute_result"
    },
    {
     "data": {
      "image/png": "[encoded data removed]",
      "text/plain": [
       "<Figure size 432x288 with 1 Axes>"
      ]
     },
     "metadata": {
      "needs_background": "light"
     },
     "output_type": "display_data"
    }
   ],
   "source": [
    "avg_salary_skills = list()\n",
    "for skill in Skills_list:\n",
    "    avg_salary_skills.append(df[df[skill] == 1]['Avg Salary'].mean())\n",
    "plt.barh(Skills_list, avg_salary_skills)"
   ]
  },
  {
   "cell_type": "code",
   "execution_count": 29,
   "id": "fc270300-edbb-45e6-b803-5163b1da149f",
   "metadata": {},
   "outputs": [],
   "source": [
    "df.to_csv(\"jobs_cleaned.csv\",index = False)"
   ]
  },
  {
   "cell_type": "code",
   "execution_count": null,
   "id": "f16dc669-86d2-4139-bcbf-e20a7e87d10d",
   "metadata": {},
   "outputs": [],
   "source": []
  }
 ],
 "metadata": {
  "kernelspec": {
   "display_name": "Python 3 (ipykernel)",
   "language": "python",
   "name": "python3"
  },
  "language_info": {
   "codemirror_mode": {
    "name": "ipython",
    "version": 3
   },
   "file_extension": ".py",
   "mimetype": "text/x-python",
   "name": "python",
   "nbconvert_exporter": "python",
   "pygments_lexer": "ipython3",
   "version": "3.9.5"
  }
 },
 "nbformat": 4,
 "nbformat_minor": 5
}
